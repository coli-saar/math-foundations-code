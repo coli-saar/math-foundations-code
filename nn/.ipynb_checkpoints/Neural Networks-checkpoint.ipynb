{
 "cells": [
  {
   "cell_type": "markdown",
   "metadata": {},
   "source": [
    "# Neural networks in Numpy"
   ]
  },
  {
   "cell_type": "markdown",
   "metadata": {},
   "source": [
    "## Defining the neural network"
   ]
  },
  {
   "cell_type": "code",
   "execution_count": 1,
   "metadata": {},
   "outputs": [],
   "source": [
    "import numpy as np\n",
    "import itertools\n",
    "import matplotlib.pyplot as plt"
   ]
  },
  {
   "cell_type": "markdown",
   "metadata": {},
   "source": [
    "The parameters our neural network are two weight matrices, W and V."
   ]
  },
  {
   "cell_type": "code",
   "execution_count": 2,
   "metadata": {},
   "outputs": [
    {
     "name": "stdout",
     "output_type": "stream",
     "text": [
      "[[1. 2.]\n",
      " [3. 1.]]\n",
      "[[ 1. -1.]]\n"
     ]
    }
   ],
   "source": [
    "W = np.array([[1,2],[3,1]], dtype=float) # shape (2,2)\n",
    "V = np.array([[1,-1]], dtype=float) # shape (1,2)\n",
    "\n",
    "print(W)\n",
    "print(V)"
   ]
  },
  {
   "cell_type": "markdown",
   "metadata": {},
   "source": [
    "The neural networks reads an input xx from R2 and predicts an output y. For simplicity, we let y be a single float, i.e. a vector from R1."
   ]
  },
  {
   "cell_type": "code",
   "execution_count": 3,
   "metadata": {},
   "outputs": [],
   "source": [
    "# The sigmoid = logistic function.\n",
    "def sigmoid(x):\n",
    "    return 1/(1+np.exp(-x))\n",
    "\n",
    "# Forward application of the neural network; returns the prediction.\n",
    "def forward(xx, W, V):\n",
    "    hh = W @ xx         # shape (2,)\n",
    "    aa = sigmoid(hh)    # shape (2,)\n",
    "    y = V @ aa          # shape (1,)\n",
    "    \n",
    "    return y"
   ]
  },
  {
   "cell_type": "markdown",
   "metadata": {},
   "source": [
    "## Forward evaluation of the neural network"
   ]
  },
  {
   "cell_type": "markdown",
   "metadata": {},
   "source": [
    "Here is some training data for the neural network. For each xx, it is supposed to predict the corresponding gold y. So for instance, for the input [2,1], the NN is supposed to predict 1."
   ]
  },
  {
   "cell_type": "code",
   "execution_count": 4,
   "metadata": {},
   "outputs": [],
   "source": [
    "xx = np.array([2,1])\n",
    "xx2 = np.array([0,1])\n",
    "\n",
    "yhat = 1\n",
    "yhat2 = -1\n",
    "\n",
    "inputs = [xx, xx2]\n",
    "gold_outputs = np.array([yhat, yhat2])\n",
    "\n",
    "N = len(inputs)"
   ]
  },
  {
   "cell_type": "markdown",
   "metadata": {},
   "source": [
    "But in reality, the NN makes really crazy predictions. This is because W and V don't have the correct entries to predict the input-output mapping in the training data."
   ]
  },
  {
   "cell_type": "code",
   "execution_count": 5,
   "metadata": {},
   "outputs": [
    {
     "data": {
      "text/plain": [
       "-0.017075158767690946"
      ]
     },
     "execution_count": 5,
     "metadata": {},
     "output_type": "execute_result"
    }
   ],
   "source": [
    "y_pred = forward(xx, W, V)[0]\n",
    "y_pred"
   ]
  },
  {
   "cell_type": "markdown",
   "metadata": {},
   "source": [
    "We can quantify how much a prediction of the NN differs from the gold output using a loss function. Here we use the squared error loss.\n",
    "\n",
    "The _cost_ of a training instance is the value of the loss function on the NN's prediction for this instance, compared to the gold output in this instance. The overall cost on the whole training set is the sum of costs on the individual instances."
   ]
  },
  {
   "cell_type": "code",
   "execution_count": 6,
   "metadata": {},
   "outputs": [
    {
     "data": {
      "text/plain": [
       "1.0344418785823237"
      ]
     },
     "execution_count": 6,
     "metadata": {},
     "output_type": "execute_result"
    }
   ],
   "source": [
    "def loss(y, yhat):\n",
    "    return (y-yhat)**2\n",
    "\n",
    "loss(y_pred, yhat)"
   ]
  },
  {
   "cell_type": "code",
   "execution_count": 7,
   "metadata": {},
   "outputs": [
    {
     "data": {
      "text/plain": [
       "1.3218986168827092"
      ]
     },
     "execution_count": 7,
     "metadata": {},
     "output_type": "execute_result"
    }
   ],
   "source": [
    "# Cost of the second training instance\n",
    "loss(forward(xx2, W, V)[0], yhat2)"
   ]
  },
  {
   "cell_type": "markdown",
   "metadata": {},
   "source": [
    "## Changing W and V by hand"
   ]
  },
  {
   "cell_type": "markdown",
   "metadata": {},
   "source": [
    "If we change the values of W and V, the cost will change. Our goal is to find values of W and V that minimize the overall cost, ideally to zero (which would mean that the NN predicts the gold outputs perfectly on all training instances). But doing this by hand is difficult. Let's try a few variants of W and V."
   ]
  },
  {
   "cell_type": "code",
   "execution_count": 8,
   "metadata": {},
   "outputs": [
    {
     "data": {
      "text/plain": [
       "2.356340495465033"
      ]
     },
     "execution_count": 8,
     "metadata": {},
     "output_type": "execute_result"
    }
   ],
   "source": [
    "loss1 = loss(forward(xx, W, V)[0], yhat)\n",
    "loss2 = loss(forward(xx2, W, V)[0], yhat2)\n",
    "loss1 + loss2"
   ]
  },
  {
   "cell_type": "code",
   "execution_count": 9,
   "metadata": {},
   "outputs": [
    {
     "data": {
      "text/plain": [
       "7.784352555120851"
      ]
     },
     "execution_count": 9,
     "metadata": {},
     "output_type": "execute_result"
    }
   ],
   "source": [
    "V = np.array([[1,1]])\n",
    "\n",
    "loss1 = loss(forward(xx, W, V)[0], yhat)\n",
    "loss2 = loss(forward(xx2, W, V)[0], yhat2)\n",
    "loss1 + loss2\n"
   ]
  },
  {
   "cell_type": "code",
   "execution_count": 10,
   "metadata": {},
   "outputs": [
    {
     "data": {
      "text/plain": [
       "4.06868611336519"
      ]
     },
     "execution_count": 10,
     "metadata": {},
     "output_type": "execute_result"
    }
   ],
   "source": [
    "V = np.array([[0,-1]])\n",
    "\n",
    "loss1 = loss(forward(xx, W, V)[0], yhat)\n",
    "loss2 = loss(forward(xx2, W, V)[0], yhat2)\n",
    "loss1 + loss2\n"
   ]
  },
  {
   "cell_type": "code",
   "execution_count": 11,
   "metadata": {},
   "outputs": [
    {
     "data": {
      "text/plain": [
       "3.53772115227894"
      ]
     },
     "execution_count": 11,
     "metadata": {},
     "output_type": "execute_result"
    }
   ],
   "source": [
    "V = np.array([[1,0]])\n",
    "\n",
    "loss1 = loss(forward(xx, W, V)[0], yhat)\n",
    "loss2 = loss(forward(xx2, W, V)[0], yhat2)\n",
    "loss1 + loss2\n"
   ]
  },
  {
   "cell_type": "markdown",
   "metadata": {},
   "source": [
    "Hm, it is really difficult to find a better V by hand. Let's do it automatically."
   ]
  },
  {
   "cell_type": "markdown",
   "metadata": {},
   "source": [
    "## Backpropagation"
   ]
  },
  {
   "cell_type": "markdown",
   "metadata": {},
   "source": [
    "The backpropagation algorithm will compute the gradient of the cost with respect to W and V. The gradient represent the direction of steepest ascent, i.e. the changes to W and V that would increase the cost as quickly as possible. By _subtracting_ a multiple of the gradients from W and V, we can minimize the cost. First, let's define some helper functions."
   ]
  },
  {
   "cell_type": "code",
   "execution_count": 12,
   "metadata": {},
   "outputs": [],
   "source": [
    "# Create a rows x columns Numpy array and fill it with the\n",
    "# values of f(row,column).\n",
    "\n",
    "def make_matrix(rows, columns, f):\n",
    "    values = [[f(i,j) for j in range(columns)] for i in range(rows)]\n",
    "    values = itertools.chain.from_iterable(values)\n",
    "    arr = np.fromiter(values, dtype=float)\n",
    "    return np.reshape(arr, (rows, columns))"
   ]
  },
  {
   "cell_type": "code",
   "execution_count": 13,
   "metadata": {},
   "outputs": [],
   "source": [
    "# Derivative of the sigmoid function.\n",
    "\n",
    "def d_sigmoid(x):\n",
    "    s = sigmoid(x)\n",
    "    return s * (1-s)"
   ]
  },
  {
   "cell_type": "markdown",
   "metadata": {},
   "source": [
    "Now we can define a class that computes gradients for each training instance. Afterwards, it will sum the gradients over all training instances. By the sum rule of calculus, this gives us the gradient for the overall cost.\n",
    "\n",
    "We also redefine the \"forward\" function from above so it computes and collects the gradients. Notice that the backpropagation algorithm needs access to the intermediate results of the calculation, so have to \"look inside\" the forward algorithm and can't just look at the output. Real NN libraries such as Pytorch or Tensorflow do this automatically by keeping track of the computation graph, so the code can remain more uncluttered than ours."
   ]
  },
  {
   "cell_type": "code",
   "execution_count": 14,
   "metadata": {},
   "outputs": [],
   "source": [
    "class Backprop:\n",
    "    def __init__(self, N):\n",
    "        self.gradients = {\"V\": [], \"W\": []}\n",
    "        self.N = N\n",
    "        \n",
    "    def collect(self, xx, hh, aa, y, ygold):\n",
    "        # Jacobi matrices\n",
    "        j_e_y = make_matrix(1, 1, lambda row, col: 2 * (y-ygold))  # (1,1)\n",
    "        j_y_aa = V   # (1,2)\n",
    "        j_aa_hh = np.diag(d_sigmoid(hh)) # (2,2)   \n",
    "\n",
    "        # gradients\n",
    "        grad_e = np.array([[1]])     # shape (1,)\n",
    "        grad_y = j_e_y.T @ grad_e    # shape (1,)\n",
    "        grad_aa = j_y_aa.T @ grad_y  # shape (2,)\n",
    "        grad_hh = j_aa_hh.T @ grad_aa # shape (2,)\n",
    "        grad_V = make_matrix(1, 2, lambda row, col: aa[col] * grad_y[row])\n",
    "        grad_W = make_matrix(2, 2, lambda row, col: xx[col] * grad_hh[row])\n",
    "\n",
    "        self.gradients[\"V\"].append(grad_V)\n",
    "        self.gradients[\"W\"].append(grad_W)\n",
    "        \n",
    "    def get_gradients(self):\n",
    "        total_grad_V = sum(self.gradients[\"V\"])\n",
    "        total_grad_W = sum(self.gradients[\"W\"])\n",
    "        return total_grad_V, total_grad_W\n",
    "    \n",
    "\n",
    "def forward(xx, W, V, ygold=None, accumulate_gradient=None):\n",
    "    hh = W @ xx         # shape (2,)\n",
    "    aa = sigmoid(hh)    # shape (2,)\n",
    "    y = V @ aa          # shape (1,)\n",
    "    \n",
    "    if accumulate_gradient: # an object of class Backprop\n",
    "        accumulate_gradient.collect(xx, hh, aa, y, ygold)\n",
    "    \n",
    "    return y\n"
   ]
  },
  {
   "cell_type": "markdown",
   "metadata": {},
   "source": [
    "Now we are ready to perform gradient descent training. For \"num_epochs\" epochs, we iterate over the training data and collect the gradients for each training instance. At the end of the epoch, we sum the gradients up and perform one step of gradient descent."
   ]
  },
  {
   "cell_type": "code",
   "execution_count": 15,
   "metadata": {},
   "outputs": [],
   "source": [
    "def train(num_epochs):\n",
    "    global V, W\n",
    "    costs = []\n",
    "    \n",
    "    for i in range(num_epochs):\n",
    "        total_cost = 0\n",
    "        backprop = Backprop(N)\n",
    "        \n",
    "        # iterate over all training instances and collect instance-wise gradients\n",
    "        for k in range(N):\n",
    "            y_pred = forward(inputs[k], W, V, ygold=gold_outputs[k], accumulate_gradient=backprop)\n",
    "            cost_here = loss(y_pred, gold_outputs[k])\n",
    "            total_cost += cost_here\n",
    "            \n",
    "        costs.append(total_cost)\n",
    "        \n",
    "        # gradient descent step\n",
    "        total_grad_V, total_grad_W = backprop.get_gradients()        \n",
    "        V += - learning_rate * total_grad_V\n",
    "        W += - learning_rate * total_grad_W\n",
    "        \n",
    "    return costs"
   ]
  },
  {
   "cell_type": "markdown",
   "metadata": {},
   "source": [
    "Let's do the actual gradient descent training, for 1000 epochs. You should experiment with different values for the learning rate and the number of epochs."
   ]
  },
  {
   "cell_type": "code",
   "execution_count": 16,
   "metadata": {},
   "outputs": [],
   "source": [
    "# initialize parameters\n",
    "W = np.array([[1,2],[3,1]], dtype=float) # shape (2,2)\n",
    "V = np.array([[1,-1]], dtype=float) # shape (1,2)\n",
    "\n",
    "# perform GD\n",
    "learning_rate = 0.1\n",
    "costs = train(1000)"
   ]
  },
  {
   "cell_type": "markdown",
   "metadata": {},
   "source": [
    "And we can plot the learning curve, which shows the cost before each training epoch. Notice that we can see that training converged because the curve has flattened out. In practical work with NNs, you should always look at learning curves to see if you trained the NN for enough epochs. You can also diagnose certain problems from the learning curve: e.g. if the cost fluctuates wildly, your learning rate is probably too high. Try this out (e.g. set the LR to 0.8)."
   ]
  },
  {
   "cell_type": "code",
   "execution_count": 17,
   "metadata": {},
   "outputs": [
    {
     "data": {
      "text/plain": [
       "[<matplotlib.lines.Line2D at 0x7fa81228f610>]"
      ]
     },
     "execution_count": 17,
     "metadata": {},
     "output_type": "execute_result"
    },
    {
     "data": {
      "image/png": "[encoded data removed]",
      "text/plain": [
       "<Figure size 432x288 with 1 Axes>"
      ]
     },
     "metadata": {
      "needs_background": "light"
     },
     "output_type": "display_data"
    }
   ],
   "source": [
    "plt.xticks(range(0, len(costs), 100))\n",
    "plt.plot(costs)"
   ]
  },
  {
   "cell_type": "markdown",
   "metadata": {},
   "source": [
    "Let's check that the NN actually learned to make the right predictions."
   ]
  },
  {
   "cell_type": "code",
   "execution_count": 18,
   "metadata": {},
   "outputs": [
    {
     "name": "stdout",
     "output_type": "stream",
     "text": [
      "0.9999999999983542\n",
      "-0.9999999999976827\n"
     ]
    }
   ],
   "source": [
    "print(forward(xx, W, V)[0])\n",
    "print(forward(xx2, W, V)[0])"
   ]
  },
  {
   "cell_type": "markdown",
   "metadata": {},
   "source": [
    "Yay!"
   ]
  }
 ],
 "metadata": {
  "kernelspec": {
   "display_name": "Python 3",
   "language": "python",
   "name": "python3"
  },
  "language_info": {
   "codemirror_mode": {
    "name": "ipython",
    "version": 3
   },
   "file_extension": ".py",
   "mimetype": "text/x-python",
   "name": "python",
   "nbconvert_exporter": "python",
   "pygments_lexer": "ipython3",
   "version": "3.8.5"
  }
 },
 "nbformat": 4,
 "nbformat_minor": 4
}
